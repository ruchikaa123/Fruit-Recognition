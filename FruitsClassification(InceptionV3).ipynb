{
  "nbformat": 4,
  "nbformat_minor": 0,
  "metadata": {
    "accelerator": "GPU",
    "colab": {
      "name": "FruitsClassification(InceptionV3).ipynb",
      "provenance": [],
      "collapsed_sections": [],
      "include_colab_link": true
    },
    "kernelspec": {
      "display_name": "Python 3",
      "language": "python",
      "name": "python3"
    },
    "language_info": {
      "codemirror_mode": {
        "name": "ipython",
        "version": 3
      },
      "file_extension": ".py",
      "mimetype": "text/x-python",
      "name": "python",
      "nbconvert_exporter": "python",
      "pygments_lexer": "ipython3",
      "version": "3.6.8"
    }
  },
  "cells": [
    {
      "cell_type": "markdown",
      "metadata": {
        "id": "view-in-github",
        "colab_type": "text"
      },
      "source": [
        "<a href=\"https://colab.research.google.com/github/ruchikaa123/Fruit-Recognition/blob/main/FruitsClassification(InceptionV3).ipynb\" target=\"_parent\"><img src=\"https://colab.research.google.com/assets/colab-badge.svg\" alt=\"Open In Colab\"/></a>"
      ]
    },
    {
      "cell_type": "code",
      "metadata": {
        "colab": {
          "base_uri": "https://localhost:8080/"
        },
        "id": "bkXUSo-ShuCV",
        "outputId": "35497037-0ff6-4457-d5f9-53ccd4d8bda0"
      },
      "source": [
        "!wget https://www.dropbox.com/s/fxn3ldztzwxm0rw/FruitsData.zip"
      ],
      "execution_count": 25,
      "outputs": [
        {
          "output_type": "stream",
          "text": [
            "--2021-08-14 21:47:32--  https://www.dropbox.com/s/fxn3ldztzwxm0rw/FruitsData.zip\n",
            "Resolving www.dropbox.com (www.dropbox.com)... 162.125.2.18, 2620:100:6017:18::a27d:212\n",
            "Connecting to www.dropbox.com (www.dropbox.com)|162.125.2.18|:443... connected.\n",
            "HTTP request sent, awaiting response... 301 Moved Permanently\n",
            "Location: /s/raw/fxn3ldztzwxm0rw/FruitsData.zip [following]\n",
            "--2021-08-14 21:47:32--  https://www.dropbox.com/s/raw/fxn3ldztzwxm0rw/FruitsData.zip\n",
            "Reusing existing connection to www.dropbox.com:443.\n",
            "HTTP request sent, awaiting response... 302 Found\n",
            "Location: https://uc0b397d4923abeb534356692dd9.dl.dropboxusercontent.com/cd/0/inline/BUMx6zHFbvEFVdJp4nhS4_4YRvVqXj7ebZDyqi3eLvQ0OVTaDH3RB8guwEvRW2boF-AWzWSvBEQl_h_YWQCj_Yd61gDVX9edPxKukPzbrNeYcNUNGb8IBzRTMoLn-R2lWYmv3aRuFhCzlPfiCp-40D_e/file# [following]\n",
            "--2021-08-14 21:47:32--  https://uc0b397d4923abeb534356692dd9.dl.dropboxusercontent.com/cd/0/inline/BUMx6zHFbvEFVdJp4nhS4_4YRvVqXj7ebZDyqi3eLvQ0OVTaDH3RB8guwEvRW2boF-AWzWSvBEQl_h_YWQCj_Yd61gDVX9edPxKukPzbrNeYcNUNGb8IBzRTMoLn-R2lWYmv3aRuFhCzlPfiCp-40D_e/file\n",
            "Resolving uc0b397d4923abeb534356692dd9.dl.dropboxusercontent.com (uc0b397d4923abeb534356692dd9.dl.dropboxusercontent.com)... 162.125.65.15, 2620:100:6017:15::a27d:20f\n",
            "Connecting to uc0b397d4923abeb534356692dd9.dl.dropboxusercontent.com (uc0b397d4923abeb534356692dd9.dl.dropboxusercontent.com)|162.125.65.15|:443... connected.\n",
            "HTTP request sent, awaiting response... 302 Found\n",
            "Location: /cd/0/inline2/BUOAwQJXfDpymVHh3T7pNsK4iDRG8dXKsMPN5ZSA3Br-fizgAb1kKchr5hb4tuIFVza62EjrD1An3cXoU8aZtJ4WxFB8lpmsG5Y2dAogJnlNpE-_fv6GMx1ADojHF7CGKi01t2iP0lDTTmVoCFZadQmmoljOVmtyncf3pLIfwoY9LGanFu6Gu33mkKXvOTlou1u8m2ubn3bCO9l4P5VDezWzxLykuX4c53BlBjDd7eltO1bweYiuqmr93npZmddaUwG-dmDlDlX97_YtKCTgSNATMdkrtM8iz1aZVMGN-cFFfc_4yYI_Us28X8eH4qrmgTfIohmd6f9Vnv-_YCcRzlXI4weIgvUa_-Ms3c9psE6-4PzuC6rRijk4G6J1iZ6hipI/file [following]\n",
            "--2021-08-14 21:47:34--  https://uc0b397d4923abeb534356692dd9.dl.dropboxusercontent.com/cd/0/inline2/BUOAwQJXfDpymVHh3T7pNsK4iDRG8dXKsMPN5ZSA3Br-fizgAb1kKchr5hb4tuIFVza62EjrD1An3cXoU8aZtJ4WxFB8lpmsG5Y2dAogJnlNpE-_fv6GMx1ADojHF7CGKi01t2iP0lDTTmVoCFZadQmmoljOVmtyncf3pLIfwoY9LGanFu6Gu33mkKXvOTlou1u8m2ubn3bCO9l4P5VDezWzxLykuX4c53BlBjDd7eltO1bweYiuqmr93npZmddaUwG-dmDlDlX97_YtKCTgSNATMdkrtM8iz1aZVMGN-cFFfc_4yYI_Us28X8eH4qrmgTfIohmd6f9Vnv-_YCcRzlXI4weIgvUa_-Ms3c9psE6-4PzuC6rRijk4G6J1iZ6hipI/file\n",
            "Reusing existing connection to uc0b397d4923abeb534356692dd9.dl.dropboxusercontent.com:443.\n",
            "HTTP request sent, awaiting response... 200 OK\n",
            "Length: 796742678 (760M) [application/zip]\n",
            "Saving to: ‘FruitsData.zip.1’\n",
            "\n",
            "FruitsData.zip.1    100%[===================>] 759.83M  14.5MB/s    in 57s     \n",
            "\n",
            "2021-08-14 21:48:32 (13.3 MB/s) - ‘FruitsData.zip.1’ saved [796742678/796742678]\n",
            "\n"
          ],
          "name": "stdout"
        }
      ]
    },
    {
      "cell_type": "code",
      "metadata": {
        "id": "kFt_EcZWxY_W"
      },
      "source": [
        "!unzip -q \"/content/FruitsData.zip\""
      ],
      "execution_count": null,
      "outputs": []
    },
    {
      "cell_type": "code",
      "metadata": {
        "id": "bbucsZPQhcps"
      },
      "source": [
        "# Imports required for this project\n",
        "import tensorflow as tf\n",
        "import numpy as np\n",
        "import matplotlib.pyplot as plt\n",
        "from pathlib import Path\n",
        "\n",
        "tf.random.set_seed(4)"
      ],
      "execution_count": 27,
      "outputs": []
    },
    {
      "cell_type": "code",
      "metadata": {
        "id": "2USniwjMjJlq"
      },
      "source": [
        "# Creating the Pathlib PATH objects\n",
        "train_path = Path(\"fruits-360/Training\")\n",
        "test_path = Path(\"fruits-360/Test\")"
      ],
      "execution_count": 28,
      "outputs": []
    },
    {
      "cell_type": "code",
      "metadata": {
        "colab": {
          "base_uri": "https://localhost:8080/"
        },
        "id": "CY8kbQwokLyR",
        "outputId": "a76ecf00-9151-4787-916f-ed4439cba7ae"
      },
      "source": [
        "# Getting Image paths \n",
        "train_image_paths = list(train_path.glob(\"*/*\"))\n",
        "train_image_paths = list(map(lambda x : str(x) , train_image_paths))\n",
        "\n",
        "train_image_paths[:10]"
      ],
      "execution_count": 29,
      "outputs": [
        {
          "output_type": "execute_result",
          "data": {
            "text/plain": [
              "['fruits-360/Training/Pitahaya Red/r_42_100.jpg',\n",
              " 'fruits-360/Training/Pitahaya Red/r_226_100.jpg',\n",
              " 'fruits-360/Training/Pitahaya Red/285_100.jpg',\n",
              " 'fruits-360/Training/Pitahaya Red/r_72_100.jpg',\n",
              " 'fruits-360/Training/Pitahaya Red/62_100.jpg',\n",
              " 'fruits-360/Training/Pitahaya Red/r_54_100.jpg',\n",
              " 'fruits-360/Training/Pitahaya Red/r_254_100.jpg',\n",
              " 'fruits-360/Training/Pitahaya Red/r_214_100.jpg',\n",
              " 'fruits-360/Training/Pitahaya Red/r_131_100.jpg',\n",
              " 'fruits-360/Training/Pitahaya Red/r_263_100.jpg']"
            ]
          },
          "metadata": {
            "tags": []
          },
          "execution_count": 29
        }
      ]
    },
    {
      "cell_type": "code",
      "metadata": {
        "colab": {
          "base_uri": "https://localhost:8080/"
        },
        "id": "nHGWNSp8kcLr",
        "outputId": "04a37e11-0e8d-4a40-a315-f27efe5d21e9"
      },
      "source": [
        "# Getting their respective labels \n",
        "\n",
        "def get_label(image_path):\n",
        "    return image_path.split(\"/\")[-2]\n",
        "\n",
        "train_image_labels = list(map(lambda x : get_label(x) , train_image_paths))\n",
        "train_image_labels[:10]"
      ],
      "execution_count": 30,
      "outputs": [
        {
          "output_type": "execute_result",
          "data": {
            "text/plain": [
              "['Pitahaya Red',\n",
              " 'Pitahaya Red',\n",
              " 'Pitahaya Red',\n",
              " 'Pitahaya Red',\n",
              " 'Pitahaya Red',\n",
              " 'Pitahaya Red',\n",
              " 'Pitahaya Red',\n",
              " 'Pitahaya Red',\n",
              " 'Pitahaya Red',\n",
              " 'Pitahaya Red']"
            ]
          },
          "metadata": {
            "tags": []
          },
          "execution_count": 30
        }
      ]
    },
    {
      "cell_type": "code",
      "metadata": {
        "colab": {
          "base_uri": "https://localhost:8080/"
        },
        "id": "DtBFz9NfknrJ",
        "outputId": "d0ed9f99-50ec-4969-fcb4-ca17e0f059d4"
      },
      "source": [
        "from sklearn.preprocessing import LabelEncoder \n",
        "\n",
        "Le = LabelEncoder()\n",
        "train_image_labels = Le.fit_transform(train_image_labels)\n",
        "\n",
        "train_image_labels[:10]"
      ],
      "execution_count": 31,
      "outputs": [
        {
          "output_type": "execute_result",
          "data": {
            "text/plain": [
              "array([101, 101, 101, 101, 101, 101, 101, 101, 101, 101])"
            ]
          },
          "metadata": {
            "tags": []
          },
          "execution_count": 31
        }
      ]
    },
    {
      "cell_type": "code",
      "metadata": {
        "colab": {
          "base_uri": "https://localhost:8080/"
        },
        "id": "HS6UTHa7T-Et",
        "outputId": "eac04f0b-d0be-44ad-a0e0-baeb0e5e3b0d"
      },
      "source": [
        "train_image_labels = tf.keras.utils.to_categorical(train_image_labels)\n",
        "\n",
        "train_image_labels[:10]"
      ],
      "execution_count": 32,
      "outputs": [
        {
          "output_type": "execute_result",
          "data": {
            "text/plain": [
              "array([[0., 0., 0., ..., 0., 0., 0.],\n",
              "       [0., 0., 0., ..., 0., 0., 0.],\n",
              "       [0., 0., 0., ..., 0., 0., 0.],\n",
              "       ...,\n",
              "       [0., 0., 0., ..., 0., 0., 0.],\n",
              "       [0., 0., 0., ..., 0., 0., 0.],\n",
              "       [0., 0., 0., ..., 0., 0., 0.]], dtype=float32)"
            ]
          },
          "metadata": {
            "tags": []
          },
          "execution_count": 32
        }
      ]
    },
    {
      "cell_type": "code",
      "metadata": {
        "id": "Ji1Weit-lVDU"
      },
      "source": [
        "from sklearn.model_selection import train_test_split \n",
        "\n",
        "Train_paths , Val_paths , Train_labels , Val_labels = train_test_split(train_image_paths , train_image_labels)"
      ],
      "execution_count": 33,
      "outputs": []
    },
    {
      "cell_type": "code",
      "metadata": {
        "colab": {
          "base_uri": "https://localhost:8080/"
        },
        "id": "3mPIUdCCltbj",
        "outputId": "44ae4246-467e-4c3c-c600-fb2b6edb6d63"
      },
      "source": [
        "Train_paths[:10] , Train_labels[:10]"
      ],
      "execution_count": 34,
      "outputs": [
        {
          "output_type": "execute_result",
          "data": {
            "text/plain": [
              "(['fruits-360/Training/Banana Red/48_100.jpg',\n",
              "  'fruits-360/Training/Pear Stone/r_30_100.jpg',\n",
              "  'fruits-360/Training/Rambutan/73_100.jpg',\n",
              "  'fruits-360/Training/Apple Braeburn/r_294_100.jpg',\n",
              "  'fruits-360/Training/Eggplant/r_221_100.jpg',\n",
              "  'fruits-360/Training/Apple Red 3/r_260_100.jpg',\n",
              "  'fruits-360/Training/Avocado ripe/r_293_100.jpg',\n",
              "  'fruits-360/Training/Walnut/137_100.jpg',\n",
              "  'fruits-360/Training/Tomato Heart/r_307_100.jpg',\n",
              "  'fruits-360/Training/Mandarine/r_168_100.jpg'],\n",
              " array([[0., 0., 0., ..., 0., 0., 0.],\n",
              "        [0., 0., 0., ..., 0., 0., 0.],\n",
              "        [0., 0., 0., ..., 0., 0., 0.],\n",
              "        ...,\n",
              "        [0., 0., 0., ..., 0., 1., 0.],\n",
              "        [0., 0., 0., ..., 0., 0., 0.],\n",
              "        [0., 0., 0., ..., 0., 0., 0.]], dtype=float32))"
            ]
          },
          "metadata": {
            "tags": []
          },
          "execution_count": 34
        }
      ]
    },
    {
      "cell_type": "code",
      "metadata": {
        "id": "WayfB4DUlwwP"
      },
      "source": [
        "# Function used for Transformation\n",
        "\n",
        "def load(image , label):\n",
        "    image = tf.io.read_file(image)\n",
        "    image = tf.io.decode_jpeg(image , channels = 3)\n",
        "    return image , label"
      ],
      "execution_count": 35,
      "outputs": []
    },
    {
      "cell_type": "code",
      "metadata": {
        "id": "4oJwdwPnR2iI"
      },
      "source": [
        "# Define IMAGE SIZE and BATCH SIZE \n",
        "IMG_SIZE = 224 \n",
        "BATCH_SIZE = 32\n",
        "\n",
        "# Basic Transformation\n",
        "resize = tf.keras.Sequential([\n",
        "    tf.keras.layers.experimental.preprocessing.Resizing(IMG_SIZE, IMG_SIZE)          \n",
        "])\n",
        "\n",
        "# Data Augmentation\n",
        "data_augmentation = tf.keras.Sequential([\n",
        "    tf.keras.layers.experimental.preprocessing.RandomFlip(\"horizontal\"),\n",
        "    tf.keras.layers.experimental.preprocessing.RandomRotation(0.2),\n",
        "    tf.keras.layers.experimental.preprocessing.RandomZoom(height_factor = (-0.3, -0.2))\n",
        "])"
      ],
      "execution_count": 36,
      "outputs": []
    },
    {
      "cell_type": "code",
      "metadata": {
        "id": "rR4A_FLKl9Cp"
      },
      "source": [
        "# Function used to Create a Tensorflow Data Object\n",
        "AUTOTUNE = tf.data.experimental.AUTOTUNE\n",
        "def get_dataset(paths , labels , train = True):\n",
        "    image_paths = tf.convert_to_tensor(paths)\n",
        "    labels = tf.convert_to_tensor(labels)\n",
        "\n",
        "    image_dataset = tf.data.Dataset.from_tensor_slices(image_paths)\n",
        "    label_dataset = tf.data.Dataset.from_tensor_slices(labels)\n",
        "\n",
        "    dataset = tf.data.Dataset.zip((image_dataset , label_dataset))\n",
        "\n",
        "    dataset = dataset.map(lambda image , label : load(image , label))\n",
        "    dataset = dataset.map(lambda image, label: (resize(image), label) , num_parallel_calls=AUTOTUNE)\n",
        "    dataset = dataset.shuffle(1000)\n",
        "    dataset = dataset.batch(BATCH_SIZE)\n",
        "\n",
        "    if train:\n",
        "        dataset = dataset.map(lambda image, label: (data_augmentation(image), label) , num_parallel_calls=AUTOTUNE)\n",
        "    \n",
        "    dataset = dataset.repeat()\n",
        "    return dataset"
      ],
      "execution_count": 37,
      "outputs": []
    },
    {
      "cell_type": "code",
      "metadata": {
        "colab": {
          "base_uri": "https://localhost:8080/"
        },
        "id": "eXbkOIjjoZo4",
        "outputId": "c92dd4ff-c154-4205-8c10-2c90adfd186e"
      },
      "source": [
        "# Creating Train Dataset object and Verifying it\n",
        "%time train_dataset = get_dataset(Train_paths , Train_labels)\n",
        "\n",
        "image , label = next(iter(train_dataset))\n",
        "print(image.shape)\n",
        "print(label.shape)"
      ],
      "execution_count": 38,
      "outputs": [
        {
          "output_type": "stream",
          "text": [
            "CPU times: user 304 ms, sys: 13 ms, total: 317 ms\n",
            "Wall time: 314 ms\n",
            "(32, 224, 224, 3)\n",
            "(32, 131)\n"
          ],
          "name": "stdout"
        }
      ]
    },
    {
      "cell_type": "code",
      "metadata": {
        "colab": {
          "base_uri": "https://localhost:8080/",
          "height": 302
        },
        "id": "qmEunSLQrmoy",
        "outputId": "c97d2255-455b-416e-bdc1-689a8dd449f0"
      },
      "source": [
        "# View a sample Training Image\n",
        "print(Le.inverse_transform(np.argmax(label , axis = 1))[0])\n",
        "plt.imshow((image[0].numpy()/255).reshape(224 , 224 , 3))"
      ],
      "execution_count": 39,
      "outputs": [
        {
          "output_type": "stream",
          "text": [
            "Chestnut\n"
          ],
          "name": "stdout"
        },
        {
          "output_type": "execute_result",
          "data": {
            "text/plain": [
              "<matplotlib.image.AxesImage at 0x7f070e44e810>"
            ]
          },
          "metadata": {
            "tags": []
          },
          "execution_count": 39
        },
        {
          "output_type": "display_data",
          "data": {
            "image/png": "[encoded data removed]",
            "text/plain": [
              "<Figure size 432x288 with 1 Axes>"
            ]
          },
          "metadata": {
            "tags": [],
            "needs_background": "light"
          }
        }
      ]
    },
    {
      "cell_type": "code",
      "metadata": {
        "colab": {
          "base_uri": "https://localhost:8080/"
        },
        "id": "Xi9IJStcoc6M",
        "outputId": "e386bf9d-9be8-4cce-b000-4be534bfa504"
      },
      "source": [
        "%time val_dataset = get_dataset(Val_paths , Val_labels , train = False)\n",
        "\n",
        "image , label = next(iter(val_dataset))\n",
        "print(image.shape)\n",
        "print(label.shape)"
      ],
      "execution_count": 40,
      "outputs": [
        {
          "output_type": "stream",
          "text": [
            "CPU times: user 30.5 ms, sys: 0 ns, total: 30.5 ms\n",
            "Wall time: 32.7 ms\n",
            "(32, 224, 224, 3)\n",
            "(32, 131)\n"
          ],
          "name": "stdout"
        }
      ]
    },
    {
      "cell_type": "code",
      "metadata": {
        "colab": {
          "base_uri": "https://localhost:8080/",
          "height": 302
        },
        "id": "b_gqj-vjvErp",
        "outputId": "927dbc98-00c1-46c8-c03c-2b40b57e62f4"
      },
      "source": [
        "# View a sample Validation Image\n",
        "print(Le.inverse_transform(np.argmax(label , axis = 1))[0])\n",
        "plt.imshow((image[0].numpy()/255).reshape(224 , 224 , 3))"
      ],
      "execution_count": 41,
      "outputs": [
        {
          "output_type": "stream",
          "text": [
            "Nut Forest\n"
          ],
          "name": "stdout"
        },
        {
          "output_type": "execute_result",
          "data": {
            "text/plain": [
              "<matplotlib.image.AxesImage at 0x7f0798d6c110>"
            ]
          },
          "metadata": {
            "tags": []
          },
          "execution_count": 41
        },
        {
          "output_type": "display_data",
          "data": {
            "image/png": "[encoded data removed]",
            "text/plain": [
              "<Figure size 432x288 with 1 Axes>"
            ]
          },
          "metadata": {
            "tags": [],
            "needs_background": "light"
          }
        }
      ]
    },
    {
      "cell_type": "code",
      "metadata": {
        "colab": {
          "base_uri": "https://localhost:8080/"
        },
        "id": "9e32BWRjUuV6",
        "outputId": "eddd6c67-4d4c-4f98-b22b-51b8dafc636f"
      },
      "source": [
        "# Building InceptionV3 model\n",
        "from tensorflow.keras.applications import InceptionV3\n",
        "\n",
        "backbone = InceptionV3(\n",
        "    input_shape=(224, 224, 3),\n",
        "    include_top=False\n",
        ")\n",
        "\n",
        "model = tf.keras.Sequential([\n",
        "    backbone,\n",
        "    tf.keras.layers.GlobalAveragePooling2D(),\n",
        "    tf.keras.layers.Dense(131, activation='softmax')\n",
        "])\n",
        "\n",
        "model.summary()"
      ],
      "execution_count": 42,
      "outputs": [
        {
          "output_type": "stream",
          "text": [
            "Downloading data from https://storage.googleapis.com/tensorflow/keras-applications/inception_v3/inception_v3_weights_tf_dim_ordering_tf_kernels_notop.h5\n",
            "87916544/87910968 [==============================] - 1s 0us/step\n",
            "Model: \"sequential_5\"\n",
            "_________________________________________________________________\n",
            "Layer (type)                 Output Shape              Param #   \n",
            "=================================================================\n",
            "inception_v3 (Functional)    (None, 5, 5, 2048)        21802784  \n",
            "_________________________________________________________________\n",
            "global_average_pooling2d_1 ( (None, 2048)              0         \n",
            "_________________________________________________________________\n",
            "dense_1 (Dense)              (None, 131)               268419    \n",
            "=================================================================\n",
            "Total params: 22,071,203\n",
            "Trainable params: 22,036,771\n",
            "Non-trainable params: 34,432\n",
            "_________________________________________________________________\n"
          ],
          "name": "stdout"
        }
      ]
    },
    {
      "cell_type": "code",
      "metadata": {
        "id": "crnP0rolUy0O"
      },
      "source": [
        "# Compiling your model by providing the Optimizer , Loss and Metrics\n",
        "model.compile(\n",
        "    optimizer=tf.keras.optimizers.Adam(learning_rate=0.001, beta_1=0.9, beta_2=0.999, epsilon=1e-07),\n",
        "    loss = 'categorical_crossentropy',\n",
        "    metrics=['accuracy' , tf.keras.metrics.Precision(name='precision'),tf.keras.metrics.Recall(name='recall')]\n",
        ")"
      ],
      "execution_count": 43,
      "outputs": []
    },
    {
      "cell_type": "code",
      "metadata": {
        "colab": {
          "base_uri": "https://localhost:8080/"
        },
        "id": "bATVPoL4xtyJ",
        "outputId": "3d6af4e8-45f6-489e-d920-cf9af3586b7b"
      },
      "source": [
        "# Train the model\n",
        "history = model.fit(\n",
        "    train_dataset,\n",
        "    steps_per_epoch=len(Train_paths)//BATCH_SIZE,\n",
        "    epochs=1,\n",
        "    #callbacks=[checkpoint , early_stop],\n",
        "    validation_data=val_dataset,\n",
        "    validation_steps = len(Val_paths)//BATCH_SIZE,\n",
        ")"
      ],
      "execution_count": 44,
      "outputs": [
        {
          "output_type": "stream",
          "text": [
            "1586/1586 [==============================] - 597s 370ms/step - loss: 0.5779 - accuracy: 0.8400 - precision: 0.9133 - recall: 0.7924 - val_loss: 4.0178 - val_accuracy: 0.3076 - val_precision: 0.3615 - val_recall: 0.2754\n"
          ],
          "name": "stdout"
        }
      ]
    },
    {
      "cell_type": "code",
      "metadata": {
        "id": "28vylx4DyDBS"
      },
      "source": [
        "#turning off backbone-doing this we are ensuring that the model has lower chances of overfitting\n",
        "model.layers[0].trainable = False"
      ],
      "execution_count": 45,
      "outputs": []
    },
    {
      "cell_type": "code",
      "metadata": {
        "id": "U8r6G0RVU3c2"
      },
      "source": [
        "# Defining our callbacks \n",
        "checkpoint = tf.keras.callbacks.ModelCheckpoint(\"best_weights.h5\",verbose=1,save_best_only=True,save_weights_only = True)\n",
        "early_stop = tf.keras.callbacks.EarlyStopping(patience=4)"
      ],
      "execution_count": 46,
      "outputs": []
    },
    {
      "cell_type": "code",
      "metadata": {
        "colab": {
          "base_uri": "https://localhost:8080/"
        },
        "id": "Gn0a29MW0s5c",
        "outputId": "4a28e5db-3f08-4f22-e75a-d55b51de6928"
      },
      "source": [
        "model.summary()"
      ],
      "execution_count": 47,
      "outputs": [
        {
          "output_type": "stream",
          "text": [
            "Model: \"sequential_5\"\n",
            "_________________________________________________________________\n",
            "Layer (type)                 Output Shape              Param #   \n",
            "=================================================================\n",
            "inception_v3 (Functional)    (None, 5, 5, 2048)        21802784  \n",
            "_________________________________________________________________\n",
            "global_average_pooling2d_1 ( (None, 2048)              0         \n",
            "_________________________________________________________________\n",
            "dense_1 (Dense)              (None, 131)               268419    \n",
            "=================================================================\n",
            "Total params: 22,071,203\n",
            "Trainable params: 268,419\n",
            "Non-trainable params: 21,802,784\n",
            "_________________________________________________________________\n"
          ],
          "name": "stdout"
        }
      ]
    },
    {
      "cell_type": "code",
      "metadata": {
        "colab": {
          "base_uri": "https://localhost:8080/"
        },
        "id": "1IeOU2kKU5OT",
        "outputId": "89b313e2-c6b2-4126-e9d2-bfaff4a95122"
      },
      "source": [
        "# Train the model\n",
        "history = model.fit(\n",
        "    train_dataset,\n",
        "    steps_per_epoch=len(Train_paths)//BATCH_SIZE,\n",
        "    epochs=8,\n",
        "    callbacks=[checkpoint , early_stop],\n",
        "    validation_data=val_dataset,\n",
        "    validation_steps = len(Val_paths)//BATCH_SIZE,\n",
        ")"
      ],
      "execution_count": null,
      "outputs": [
        {
          "output_type": "stream",
          "text": [
            "Epoch 1/8\n",
            "  47/1586 [..............................] - ETA: 8:42 - loss: 0.1382 - accuracy: 0.9528 - precision: 0.9615 - recall: 0.9475"
          ],
          "name": "stdout"
        }
      ]
    },
    {
      "cell_type": "code",
      "metadata": {
        "id": "zaIUk_NRVJVJ"
      },
      "source": [
        ""
      ],
      "execution_count": null,
      "outputs": []
    }
  ]
}